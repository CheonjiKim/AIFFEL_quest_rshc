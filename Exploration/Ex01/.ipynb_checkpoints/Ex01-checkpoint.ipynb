{
 "cells": [
  {
   "cell_type": "code",
   "execution_count": 3,
   "id": "ed7608a0",
   "metadata": {},
   "outputs": [],
   "source": [
    "import numpy as np\n",
    "from sklearn.datasets import load_diabetes\n",
    "from sklearn.model_selection import train_test_split\n",
    "import matplotlib.pyplot as plt\n",
    "\n",
    "diabetes = load_diabetes()\n",
    "df_X = diabetes.data\n",
    "df_y = diabetes.target\n"
   ]
  },
  {
   "cell_type": "code",
   "execution_count": 4,
   "id": "746c36e3",
   "metadata": {},
   "outputs": [],
   "source": [
    "# (2) 모델에 입력할 데이터 X 준비하기\n",
    "X = np.array(df_X)"
   ]
  },
  {
   "cell_type": "code",
   "execution_count": 5,
   "id": "8575209b",
   "metadata": {},
   "outputs": [],
   "source": [
    "# (3) 모델에 예측할 데이터 y 준비하기\n",
    "y = np.array(df_y)"
   ]
  },
  {
   "cell_type": "code",
   "execution_count": 6,
   "id": "090bab40",
   "metadata": {},
   "outputs": [],
   "source": [
    "# (4) train 데이터와 test 데이터로 분리하기\n",
    "X_train, X_test, y_train, y_test = train_test_split(X, y, test_size=0.2, random_state=42)"
   ]
  },
  {
   "cell_type": "code",
   "execution_count": 7,
   "id": "9b77df89",
   "metadata": {},
   "outputs": [],
   "source": [
    "# (5) 모델 준비하기\n",
    "# 가중치(W)와 편향(b) 초기화\n",
    "W = np.zeros(X_train.shape[1])\n",
    "b = 0.0\n",
    "\n",
    "\n",
    "def model(X, W, b):\n",
    "    predictions = 0\n",
    "    for i in range(X.shape[1]): \n",
    "        predictions += X[:, i] * W[i]\n",
    "    predictions += b\n",
    "    return predictions"
   ]
  },
  {
   "cell_type": "code",
   "execution_count": 8,
   "id": "4fe28d36",
   "metadata": {},
   "outputs": [],
   "source": [
    "# (6) 손실함수 loss 정의하기\n",
    "def MSE(y_true, y_pred):\n",
    "    mse = ((y_true - y_pred) ** 2).mean()  \n",
    "    return mse\n",
    "\n",
    "def loss(X, W, b, y):\n",
    "    predictions = model(X, W, b)\n",
    "    return MSE(y, predictions)"
   ]
  },
  {
   "cell_type": "code",
   "execution_count": 9,
   "id": "559e641b",
   "metadata": {},
   "outputs": [],
   "source": [
    "# (7) 기울기를 구하는 gradient 함수 구현하기\n",
    "def gradient(X, y, y_pred):\n",
    "    N = len(y)\n",
    "    dW = -2 / N * np.dot(X.T, (y - y_pred))\n",
    "    db = -2 / N * np.sum(y - y_pred)\n",
    "    return dW, db"
   ]
  },
  {
   "cell_type": "code",
   "execution_count": 10,
   "id": "61b102e2",
   "metadata": {},
   "outputs": [],
   "source": [
    "# (8) 하이퍼 파라미터인 학습률 설정하기\n",
    "learning_rate = 0.1\n",
    "epochs = 10000  # 반복 횟수"
   ]
  },
  {
   "cell_type": "code",
   "execution_count": 11,
   "id": "7ddb112c",
   "metadata": {},
   "outputs": [
    {
     "name": "stdout",
     "output_type": "stream",
     "text": [
      "Epoch 0: Loss = 21193.179569002026\n",
      "Epoch 100: Loss = 5379.99857252262\n",
      "Epoch 200: Loss = 4877.101510383119\n",
      "Epoch 300: Loss = 4503.218756307907\n",
      "Epoch 400: Loss = 4221.562870030017\n",
      "Epoch 500: Loss = 4006.254662974612\n",
      "Epoch 600: Loss = 3839.0442332700277\n",
      "Epoch 700: Loss = 3707.022320713319\n",
      "Epoch 800: Loss = 3601.0223841930806\n",
      "Epoch 900: Loss = 3514.5044942424843\n",
      "Epoch 1000: Loss = 3442.775365061437\n",
      "Epoch 1100: Loss = 3382.442937864629\n",
      "Epoch 1200: Loss = 3331.034667498475\n",
      "Epoch 1300: Loss = 3286.730098367415\n",
      "Epoch 1400: Loss = 3248.1732615011706\n",
      "Epoch 1500: Loss = 3214.340846566144\n",
      "Epoch 1600: Loss = 3184.44937042177\n",
      "Epoch 1700: Loss = 3157.889632372209\n",
      "Epoch 1800: Loss = 3134.180281350669\n",
      "Epoch 1900: Loss = 3112.9347860952576\n",
      "Epoch 2000: Loss = 3093.837819582294\n",
      "Epoch 2100: Loss = 3076.6282692361074\n",
      "Epoch 2200: Loss = 3061.086922075333\n",
      "Epoch 2300: Loss = 3047.0274586935643\n",
      "Epoch 2400: Loss = 3034.2897983054345\n",
      "Epoch 2500: Loss = 3022.7351223611563\n",
      "Epoch 2600: Loss = 3012.2421036420333\n",
      "Epoch 2700: Loss = 3002.704007238479\n",
      "Epoch 2800: Loss = 2994.0264274736355\n",
      "Epoch 2900: Loss = 2986.125493289945\n",
      "Epoch 3000: Loss = 2978.9264226666137\n",
      "Epoch 3100: Loss = 2972.362340425424\n",
      "Epoch 3200: Loss = 2966.3732975971143\n",
      "Epoch 3300: Loss = 2960.905447352784\n",
      "Epoch 3400: Loss = 2955.910344443599\n",
      "Epoch 3500: Loss = 2951.3443435969843\n",
      "Epoch 3600: Loss = 2947.1680784083505\n",
      "Epoch 3700: Loss = 2943.3460066576745\n",
      "Epoch 3800: Loss = 2939.846011169092\n",
      "Epoch 3900: Loss = 2936.6390476690403\n",
      "Epoch 4000: Loss = 2933.6988328297452\n",
      "Epoch 4100: Loss = 2931.0015669825807\n",
      "Epoch 4200: Loss = 2928.5256869714194\n",
      "Epoch 4300: Loss = 2926.251645375429\n",
      "Epoch 4400: Loss = 2924.161712924498\n",
      "Epoch 4500: Loss = 2922.2398014019113\n",
      "Epoch 4600: Loss = 2920.471304708849\n",
      "Epoch 4700: Loss = 2918.842956076036\n",
      "Epoch 4800: Loss = 2917.3426996654007\n",
      "Epoch 4900: Loss = 2915.959575020778\n",
      "Epoch 5000: Loss = 2914.6836130100664\n",
      "Epoch 5100: Loss = 2913.5057420583325\n",
      "Epoch 5200: Loss = 2912.4177036070305\n",
      "Epoch 5300: Loss = 2911.411975852466\n",
      "Epoch 5400: Loss = 2910.481704919817\n",
      "Epoch 5500: Loss = 2909.6206427197\n",
      "Epoch 5600: Loss = 2908.8230908142536\n",
      "Epoch 5700: Loss = 2908.083849690526\n",
      "Epoch 5800: Loss = 2907.3981729017546\n",
      "Epoch 5900: Loss = 2906.761725593016\n",
      "Epoch 6000: Loss = 2906.170546977482\n",
      "Epoch 6100: Loss = 2905.6210163739197\n",
      "Epoch 6200: Loss = 2905.109822455726\n",
      "Epoch 6300: Loss = 2904.6339353972558\n",
      "Epoch 6400: Loss = 2904.1905816349417\n",
      "Epoch 6500: Loss = 2903.7772209890854\n",
      "Epoch 6600: Loss = 2903.3915259177124\n",
      "Epoch 6700: Loss = 2903.0313626966745\n",
      "Epoch 6800: Loss = 2902.694774340699\n",
      "Epoch 6900: Loss = 2902.3799650984374\n",
      "Epoch 7000: Loss = 2902.085286371102\n",
      "Epoch 7100: Loss = 2901.809223919081\n",
      "Epoch 7200: Loss = 2901.550386234263\n",
      "Epoch 7300: Loss = 2901.3074939677813\n",
      "Epoch 7400: Loss = 2901.0793703136314\n",
      "Epoch 7500: Loss = 2900.8649322583556\n",
      "Epoch 7600: Loss = 2900.6631826156436\n",
      "Epoch 7700: Loss = 2900.473202772609\n",
      "Epoch 7800: Loss = 2900.2941460815223\n",
      "Epoch 7900: Loss = 2900.125231837171\n",
      "Epoch 8000: Loss = 2899.9657397857454\n",
      "Epoch 8100: Loss = 2899.815005116324\n",
      "Epoch 8200: Loss = 2899.672413890685\n",
      "Epoch 8300: Loss = 2899.537398871389\n",
      "Epoch 8400: Loss = 2899.409435711846\n",
      "Epoch 8500: Loss = 2899.288039475536\n",
      "Epoch 8600: Loss = 2899.1727614546185\n",
      "Epoch 8700: Loss = 2899.063186260955\n",
      "Epoch 8800: Loss = 2898.9589291651123\n",
      "Epoch 8900: Loss = 2898.8596336611713\n",
      "Epoch 9000: Loss = 2898.7649692372224\n",
      "Epoch 9100: Loss = 2898.674629333316\n",
      "Epoch 9200: Loss = 2898.588329470284\n",
      "Epoch 9300: Loss = 2898.5058055344043\n",
      "Epoch 9400: Loss = 2898.4268122042413\n",
      "Epoch 9500: Loss = 2898.351121507239\n",
      "Epoch 9600: Loss = 2898.2785214947885\n",
      "Epoch 9700: Loss = 2898.208815025511\n",
      "Epoch 9800: Loss = 2898.141818647407\n",
      "Epoch 9900: Loss = 2898.0773615704006\n"
     ]
    }
   ],
   "source": [
    "# (9) 모델 학습하기\n",
    "for epoch in range(epochs):\n",
    "    y_pred = model(X_train, W, b)  \n",
    "    dW, db = gradient(X_train, y_train, y_pred)  \n",
    "    \n",
    "    # 가중치와 편향 업데이트\n",
    "    W -= learning_rate * dW\n",
    "    b -= learning_rate * db\n",
    "    \n",
    "    # 손실값 계산 및 출력\n",
    "    if epoch % 100 == 0:\n",
    "        current_loss = loss(X_train, W, b, y_train)  \n",
    "        print(f\"Epoch {epoch}: Loss = {current_loss}\")"
   ]
  },
  {
   "cell_type": "code",
   "execution_count": 15,
   "id": "7f46c0a3",
   "metadata": {},
   "outputs": [
    {
     "name": "stdout",
     "output_type": "stream",
     "text": [
      "Test Loss: 2880.1972555107764\n"
     ]
    }
   ],
   "source": [
    "# (10) test 데이터에 대한 성능 확인하기\n",
    "test_loss = loss(X_test, W, b, y_test)\n",
    "y_test_pred = model(X_test, W, b)\n",
    "\n",
    "print(f\"Test Loss: {test_loss}\")"
   ]
  },
  {
   "cell_type": "code",
   "execution_count": 16,
   "id": "eb4ed52a",
   "metadata": {},
   "outputs": [
    {
     "data": {
      "image/png": "[encoded data removed]",
      "text/plain": [
       "<Figure size 720x432 with 1 Axes>"
      ]
     },
     "metadata": {
      "needs_background": "light"
     },
     "output_type": "display_data"
    }
   ],
   "source": [
    "# (11) 정답 데이터와 예측한 데이터 시각화하기\n",
    "plt.figure(figsize=(10, 6))\n",
    "plt.plot(y_test, label='Actual', marker='o', linestyle='', color='blue')  # 실제 값\n",
    "plt.plot(y_test_pred, label='Predicted', marker='x', linestyle='', color='red')  # 예측 값\n",
    "plt.xlabel(\"Sample Index\")\n",
    "plt.ylabel(\"Target\")\n",
    "plt.legend()\n",
    "plt.title(\"Actual vs Predicted Values\")\n",
    "plt.show()\n"
   ]
  }
 ],
 "metadata": {
  "kernelspec": {
   "display_name": "Python 3 (ipykernel)",
   "language": "python",
   "name": "python3"
  },
  "language_info": {
   "codemirror_mode": {
    "name": "ipython",
    "version": 3
   },
   "file_extension": ".py",
   "mimetype": "text/x-python",
   "name": "python",
   "nbconvert_exporter": "python",
   "pygments_lexer": "ipython3",
   "version": "3.9.7"
  }
 },
 "nbformat": 4,
 "nbformat_minor": 5
}
